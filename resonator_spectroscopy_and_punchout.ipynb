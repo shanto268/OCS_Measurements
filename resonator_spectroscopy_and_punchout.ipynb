{
 "cells": [
  {
   "cell_type": "markdown",
   "metadata": {},
   "source": [
    "# Helpful (hopefully) notes and general measurement tips"
   ]
  },
  {
   "cell_type": "markdown",
   "metadata": {},
   "source": [
    "- **Spectrum Analyzer:** The spectrum analyzer tends to timeout if it hasn't been used in a while. To restart it, simply execute the qubit initialization again or use the qb._instrument.set() command to send a value and wake the instrument back up.\n",
    "- "
   ]
  },
  {
   "cell_type": "code",
   "execution_count": 1,
   "metadata": {},
   "outputs": [],
   "source": [
    "%load_ext autoreload\n",
    "%autoreload 2"
   ]
  },
  {
   "cell_type": "code",
   "execution_count": 2,
   "metadata": {},
   "outputs": [
    {
     "name": "stdout",
     "output_type": "stream",
     "text": [
      "2024-04-25 13:06:10,779 - qm - INFO     - Starting session: 108a5227-1e44-4d60-a93a-d4f47b6e8f69\n"
     ]
    }
   ],
   "source": [
    "from qubit import qubit\n",
    "import numpy as np\n",
    "import plot_functions as pf\n",
    "#from instrument_init import init_sa"
   ]
  },
  {
   "cell_type": "markdown",
   "metadata": {},
   "source": [
    "# Initialize qubit"
   ]
  },
  {
   "cell_type": "code",
   "execution_count": null,
   "metadata": {},
   "outputs": [],
   "source": [
    "qb = qubit('ocs2')"
   ]
  },
  {
   "cell_type": "markdown",
   "metadata": {},
   "source": [
    "# Time of flight\n",
    "\n",
    "For tof calibration, we don't need the resontor frequency per se"
   ]
  },
  {
   "cell_type": "code",
   "execution_count": null,
   "metadata": {},
   "outputs": [],
   "source": [
    "qb.update_value('readout_atten',0)\n",
    "qb.update_value('tof',56) #clock cycles\n",
    "qb.update_value('smearing',10)\n",
    "qb.update_value('n_avg',1000)\n",
    "qb.update_value('rr_IF',5e6) \n",
    "qb.update_value('readout_length',1000)\n",
    "\n",
    "adc1,adc2 = qb.tof_cal(update_tof=True)\n",
    "pf.tof_plot(adc1, adc2,delay=qb.pars['tof'],offsets=qb.pars['analog_input_offsets'])"
   ]
  },
  {
   "cell_type": "code",
   "execution_count": null,
   "metadata": {},
   "outputs": [],
   "source": [
    "adc1,adc2 = qb.tof_cal(update_tof=True)\n",
    "pf.tof_plot(adc1, adc2,delay=qb.pars['tof'],offsets=qb.pars['analog_input_offsets'])"
   ]
  },
  {
   "cell_type": "markdown",
   "metadata": {},
   "source": [
    "**Note:** execute the following cell to visually see if the tof is calibrated"
   ]
  },
  {
   "cell_type": "code",
   "execution_count": null,
   "metadata": {},
   "outputs": [],
   "source": [
    "adc1,adc2 = qb.tof_cal(update_tof=False)\n",
    "pf.tof_plot(adc1, adc2,delay=qb.pars['tof'],offsets=qb.pars['analog_input_offsets'])"
   ]
  },
  {
   "cell_type": "markdown",
   "metadata": {},
   "source": [
    "# Optimize Mixers"
   ]
  },
  {
   "cell_type": "markdown",
   "metadata": {},
   "source": [
    "Starting with the smallest resonator"
   ]
  },
  {
   "cell_type": "code",
   "execution_count": null,
   "metadata": {},
   "outputs": [],
   "source": [
    "LO_freq = 7.5e9 #Hz (targets the smallest resonator)"
   ]
  },
  {
   "cell_type": "code",
   "execution_count": null,
   "metadata": {},
   "outputs": [],
   "source": [
    "# qb.update_value('rr_freq',7.6146e9)\n",
    "qb.pars['rr_IF']"
   ]
  },
  {
   "cell_type": "markdown",
   "metadata": {},
   "source": [
    "## Minimize LO leakage "
   ]
  },
  {
   "cell_type": "markdown",
   "metadata": {},
   "source": [
    "## Resonator"
   ]
  },
  {
   "cell_type": "code",
   "execution_count": null,
   "metadata": {},
   "outputs": [],
   "source": [
    "# qb.update_value('rr_LO',LO_freq)\n",
    "qb.update_value('rr_LO',qb.pars['rr_freq']-qb.pars['rr_IF'])\n",
    "# qb.get_power(fc=qb.pars['rr_LO'],threshold=-20,span=1e6,config=True,plot=True)\n",
    "qb.opt_lo_leakage(mode='coarse',element='rr',sa_span=0.5e6,threshold=-20,plot=True)"
   ]
  },
  {
   "cell_type": "markdown",
   "metadata": {},
   "source": [
    "## Minimize image sideband"
   ]
  },
  {
   "cell_type": "code",
   "execution_count": null,
   "metadata": {},
   "outputs": [],
   "source": [
    "qb.update_value('rr_IF',50e6)\n",
    "qb.opt_sideband(mode='coarse',element='rr',sa_span=0.5e6,threshold=-20,plot=True)"
   ]
  },
  {
   "cell_type": "code",
   "execution_count": null,
   "metadata": {},
   "outputs": [],
   "source": [
    "qb.opt_sideband(mode='coarse',element='rr',sa_span=0.5e6,threshold=-50,plot=True)"
   ]
  },
  {
   "cell_type": "markdown",
   "metadata": {},
   "source": [
    "# Resonator spectroscopy"
   ]
  },
  {
   "cell_type": "markdown",
   "metadata": {},
   "source": [
    "**Notes on resonator spectroscopy**"
   ]
  },
  {
   "cell_type": "code",
   "execution_count": null,
   "metadata": {},
   "outputs": [],
   "source": [
    "IF_min, IF_max = 36e6, 41.5e6\n",
    "df_resonator_spec = 0.05e6"
   ]
  },
  {
   "cell_type": "code",
   "execution_count": null,
   "metadata": {},
   "outputs": [],
   "source": [
    "job.execution_report()"
   ]
  },
  {
   "cell_type": "code",
   "execution_count": null,
   "metadata": {},
   "outputs": [],
   "source": [
    "qb.update_value('readout_length', 5000)   #ns (since resonator is narrow)\n",
    "qb.pars['resettime']['rr'] = 5000 # clock cycles\n",
    "qb.write_pars()\n",
    "qb.update_value('n_avg',3000)\n",
    "qb.update_value('readout_atten',10)\n",
    "df_resonator_spec = 0.05e6\n",
    "qb.experiment = 'resonator_spec'\n",
    "##added a 10db fixed attenuator on rr line after the spiltter and just before fridge input\n",
    "data, job = qb.resonator_spec(\n",
    "                       f_LO = 7.8e9,\n",
    "                       IF_min = IF_min,\n",
    "                       IF_max = IF_max,\n",
    "                       df = df_resonator_spec,\n",
    "                       fit=True,\n",
    "                       on_off=False,\n",
    "                       savedata=True,\n",
    "                       showprogress=True)"
   ]
  },
  {
   "cell_type": "code",
   "execution_count": null,
   "metadata": {},
   "outputs": [],
   "source": [
    "fc,fwhm = pf.fit_res(data['freqs'],data['I'],data['Q'])\n",
    "pf.resonator_spec_plot(data,qb_pars=qb.pars,fwhm=fwhm,fc=fc)"
   ]
  },
  {
   "cell_type": "code",
   "execution_count": null,
   "metadata": {},
   "outputs": [],
   "source": [
    "from resonator import Resonator"
   ]
  },
  {
   "cell_type": "code",
   "execution_count": null,
   "metadata": {},
   "outputs": [],
   "source": [
    "res = Resonator(port_type='n',f_data=data['freqs'],z_data=data['I']+1j*data['Q'])\n",
    "res.autofit(electric_delay=0)\n",
    "res.show()"
   ]
  },
  {
   "cell_type": "markdown",
   "metadata": {},
   "source": [
    "# Qubit Punchout"
   ]
  },
  {
   "cell_type": "code",
   "execution_count": null,
   "metadata": {},
   "outputs": [],
   "source": [
    "attenuations = np.arange(0,50,5)\n",
    "qb.update_value('n_avg',2000)\n",
    "data, job = qb.punchout(df = 0.05e6,\n",
    "                 IF_min = IF_min,\n",
    "                 IF_max = IF_max,\n",
    "                 attenuations=attenuations,\n",
    "                 savedata=False)"
   ]
  },
  {
   "cell_type": "code",
   "execution_count": null,
   "metadata": {},
   "outputs": [],
   "source": [
    "pf.punchout_plot(data,xlabel='Frequency (GHz)',ylabel='Attenuation (dB)',cbar_label='Phase (deg)')"
   ]
  },
  {
   "cell_type": "code",
   "execution_count": null,
   "metadata": {},
   "outputs": [],
   "source": [
    "qb.update_value('rr_atte')"
   ]
  },
  {
   "cell_type": "markdown",
   "metadata": {},
   "source": [
    "# Qubit Spectroscopy"
   ]
  },
  {
   "cell_type": "markdown",
   "metadata": {},
   "source": [
    "The first time we run qubit spectroscopy we have to use a high qubit driving amplitude for a couple of reasons. \n",
    "1. Detect higher levels like $\\omega_{02}/2$ and $\\omega_{03}/3$ so you can calculate anharmonicity.\n",
    "2. Since you don't know exactly what the qubit frequency is going to be (unless you've nailed the fab process), you will have to execute a broad sweep. Driving the qubit at high power broadens the resonance (decreases coherence), makes it easier to detect $\\omega_{01}$ -> frequency spacing can be larger."
   ]
  },
  {
   "cell_type": "markdown",
   "metadata": {},
   "source": [
    "## Narrow search"
   ]
  },
  {
   "cell_type": "code",
   "execution_count": null,
   "metadata": {},
   "outputs": [],
   "source": [
    "qb.pars['qubit_IF']"
   ]
  },
  {
   "cell_type": "code",
   "execution_count": null,
   "metadata": {},
   "outputs": [],
   "source": [
    "qb.update_value('qubit_LO',6e9)\n",
    "qb.get_power(fc=qb.pars['qubit_LO'],threshold=-20,sa_span=1e6,config=True,plot=True)   "
   ]
  },
  {
   "cell_type": "code",
   "execution_count": null,
   "metadata": {},
   "outputs": [],
   "source": [
    "amp_q_scaling = 1\n",
    "qb.update_value('n_avg',5000)\n",
    "qb.update_value('rr_freq', 7.61805e9)\n",
    "# qb.update_value('rr_IF', 50e6)\n",
    "# qb.update_value('smearing',40)\n",
    "# qb.update_value('tof',292)\n",
    "qb.update_value('readout_atten',27)\n",
    "qb.update_value('rr_LO', qb.pars['rr_freq'] - qb.pars['rr_IF'])\n",
    "qb.pars['resettime']['qubit'] = int(20e3)\n",
    "qb.write_pars()\n",
    "qb.experiment = 'qubit_spec'\n",
    "data, job = qb.qubit_spec(element='qubit',\n",
    "                                check_mixers=True,\n",
    "                                IF_min=50e6,\n",
    "                                IF_max=200e6,\n",
    "                                f_LO=6.6e9,\n",
    "                                df=0.5e6,\n",
    "                                on_off=True,\n",
    "                                amp_q_scaling = amp_q_scaling,\n",
    "                                saturation_dur = 20e3,\n",
    "                                showprogress=True,\n",
    "                                savedata=False)"
   ]
  },
  {
   "cell_type": "code",
   "execution_count": null,
   "metadata": {},
   "outputs": [],
   "source": [
    "pf.qubit_spec_plot(data,qb_pars=qb.pars,find_peaks=True, amp_q_scaling=amp_q_scaling)"
   ]
  },
  {
   "cell_type": "markdown",
   "metadata": {},
   "source": [
    "## Run broad spectroscopy scan on qubit"
   ]
  },
  {
   "cell_type": "code",
   "execution_count": null,
   "metadata": {},
   "outputs": [],
   "source": [
    "qb._instruments.set('sa','frequency',6e9)\n",
    "qb.pars['resettime']['qubit'] = int(5e3)"
   ]
  },
  {
   "cell_type": "code",
   "execution_count": null,
   "metadata": {},
   "outputs": [],
   "source": [
    "qb.update_value('n_avg',2000)\n",
    "qb.update_value('rr_freq', 7.61805e9)\n",
    "qb.update_value('rr_IF', 50e6)\n",
    "qb.update_value('rr_LO', qb.pars['rr_freq'] - qb.pars['rr_IF'])\n",
    "qb.pars['resettime']['qubit'] = int(10e3)\n",
    "qb.write_pars()\n",
    "df_qubit_spec = 2e6\n",
    "data, job = qb.run_scan(df = df_qubit_spec, element='qubit',\n",
    "                                check_mixers=False,\n",
    "                                chunksize = 200e6,\n",
    "                                lo_min = 6e9,\n",
    "                                lo_max = 7e9,\n",
    "                                amp_q_scaling = 1,\n",
    "                                on_off=True,\n",
    "                                saturation_dur = 20e3,                   \n",
    "                                showprogress=True,\n",
    "                                savedata=False)"
   ]
  },
  {
   "cell_type": "code",
   "execution_count": null,
   "metadata": {},
   "outputs": [],
   "source": [
    "%matplotlib inline\n",
    "pf.qubit_spec_plot(data,qb_pars=qb.pars,df=df_qubit_spec,rrFreq=qb.pars['rr_freq'],amp_q_scaling=1)"
   ]
  }
 ],
 "metadata": {
  "kernelspec": {
   "display_name": "dissipator-code-env",
   "language": "python",
   "name": "python3"
  },
  "language_info": {
   "codemirror_mode": {
    "name": "ipython",
    "version": 3
   },
   "file_extension": ".py",
   "mimetype": "text/x-python",
   "name": "python",
   "nbconvert_exporter": "python",
   "pygments_lexer": "ipython3",
   "version": "3.8.13"
  }
 },
 "nbformat": 4,
 "nbformat_minor": 2
}
